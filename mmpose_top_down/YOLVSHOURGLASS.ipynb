{
  "cells": [
    {
      "cell_type": "markdown",
      "metadata": {
        "id": "view-in-github",
        "colab_type": "text"
      },
      "source": [
        "<a href=\"https://colab.research.google.com/github/HabibaAbderrahim/Test_SOTA_2D_pose/blob/main/YOLVSHOURGLASS.ipynb\" target=\"_parent\"><img src=\"https://colab.research.google.com/assets/colab-badge.svg\" alt=\"Open In Colab\"/></a>"
      ]
    },
    {
      "cell_type": "markdown",
      "metadata": {
        "id": "F77yOqgkX8p4"
      },
      "source": [
        "<a href=\"https://colab.research.google.com/github/open-mmlab/mmpose/blob/dev-1.x/demo/MMPose_Tutorial.ipynb\" target=\"_parent\"><img src=\"https://colab.research.google.com/assets/colab-badge.svg\" alt=\"Open In Colab\"/></a>"
      ]
    },
    {
      "cell_type": "markdown",
      "metadata": {
        "id": "8xX3YewOtqV0"
      },
      "source": [
        "# MMPose Tutorial\n",
        "\n",
        "Welcome to MMPose colab tutorial! In this tutorial, we will show you how to\n",
        "\n",
        "- install MMPose 1.x\n",
        "- perform inference with an MMPose model\n",
        "- train a new mmpose model with your own datasets\n",
        "\n",
        "Let's start!"
      ]
    },
    {
      "cell_type": "markdown",
      "metadata": {
        "id": "bkw-kUD8t3t8"
      },
      "source": [
        "## Install MMPose\n",
        "\n",
        "We recommend to use a conda environment to install mmpose and its dependencies. And compilers `nvcc` and `gcc` are required."
      ]
    },
    {
      "cell_type": "code",
      "execution_count": null,
      "metadata": {
        "id": "0f_Ebb2otWtd"
      },
      "outputs": [],
      "source": [
        "# check NVCC version\n",
        "!nvcc -V\n",
        "\n",
        "# check GCC version\n",
        "!gcc --version\n",
        "\n",
        "# check python in conda environment\n",
        "!which python"
      ]
    },
    {
      "cell_type": "code",
      "execution_count": null,
      "metadata": {
        "id": "igSm4jhihE2M"
      },
      "outputs": [],
      "source": [
        "# install dependencies: (if your colab has CUDA 11.8)\n",
        "%pip install torch torchvision torchaudio --index-url https://download.pytorch.org/whl/cu118"
      ]
    },
    {
      "cell_type": "code",
      "execution_count": null,
      "metadata": {
        "id": "MLcoZr3ot9iw"
      },
      "outputs": [],
      "source": [
        "# install MMEngine, MMCV and MMDetection using MIM\n",
        "%pip install -U openmim\n",
        "!mim install mmengine\n",
        "!mim install \"mmcv>=2.0.0\"\n",
        "!mim install \"mmdet>=3.0.0\""
      ]
    },
    {
      "cell_type": "code",
      "execution_count": null,
      "metadata": {
        "id": "42hRcloJhE2N"
      },
      "outputs": [],
      "source": [
        "# for better Colab compatibility, install xtcocotools from source\n",
        "%pip install git+https://github.com/jin-s13/xtcocoapi"
      ]
    },
    {
      "cell_type": "code",
      "execution_count": null,
      "metadata": {
        "id": "lzuSKOjMvJZu"
      },
      "outputs": [],
      "source": [
        "!git clone https://github.com/open-mmlab/mmpose.git\n",
        "# The master branch is version 1.x\n",
        "%cd mmpose\n",
        "%pip install -r requirements.txt\n",
        "%pip install -v -e .\n",
        "# \"-v\" means verbose, or more output\n",
        "# \"-e\" means installing a project in editable mode,\n",
        "# thus any local modifications made to the code will take effect without reinstallation."
      ]
    },
    {
      "cell_type": "code",
      "execution_count": 7,
      "metadata": {
        "colab": {
          "base_uri": "https://localhost:8080/"
        },
        "id": "Miy2zVRcw6kL",
        "outputId": "1d2f920d-0bcb-46a7-c39c-315429db941c"
      },
      "outputs": [
        {
          "output_type": "stream",
          "name": "stdout",
          "text": [
            "torch version: 2.1.0+cu118 True\n",
            "torchvision version: 0.16.0+cu118\n",
            "mmpose version: 1.2.0\n",
            "cuda version: 11.8\n",
            "compiler information: GCC 9.3\n"
          ]
        }
      ],
      "source": [
        "# Check Pytorch installation\n",
        "import torch, torchvision\n",
        "\n",
        "print('torch version:', torch.__version__, torch.cuda.is_available())\n",
        "print('torchvision version:', torchvision.__version__)\n",
        "\n",
        "# Check MMPose installation\n",
        "import mmpose\n",
        "\n",
        "print('mmpose version:', mmpose.__version__)\n",
        "\n",
        "# Check mmcv installation\n",
        "from mmcv.ops import get_compiling_cuda_version, get_compiler_version\n",
        "\n",
        "print('cuda version:', get_compiling_cuda_version())\n",
        "print('compiler information:', get_compiler_version())"
      ]
    },
    {
      "cell_type": "code",
      "source": [
        "%cd mmpose\n"
      ],
      "metadata": {
        "colab": {
          "base_uri": "https://localhost:8080/"
        },
        "id": "IEWDZK1cFi1t",
        "outputId": "5e1d6686-4142-40d1-eae8-63a191186515"
      },
      "execution_count": 10,
      "outputs": [
        {
          "output_type": "stream",
          "name": "stdout",
          "text": [
            "/content/mmpose/mmpose\n"
          ]
        }
      ]
    },
    {
      "cell_type": "markdown",
      "source": [
        "###TEST HOURGLASS KEYPOINTS VS YOLOX RESULTS"
      ],
      "metadata": {
        "id": "0l46kXd4YOrK"
      }
    },
    {
      "cell_type": "markdown",
      "source": [
        "### HOURGLASS"
      ],
      "metadata": {
        "id": "_2K9x8xjYUZ-"
      }
    },
    {
      "cell_type": "code",
      "source": [
        "from mmcv.image import imread\n",
        "\n",
        "from mmpose.apis import inference_topdown, init_model\n",
        "from mmpose.registry import VISUALIZERS\n",
        "from mmpose.structures import merge_data_samples"
      ],
      "metadata": {
        "id": "BR-FTOdGCtn6"
      },
      "execution_count": 11,
      "outputs": []
    },
    {
      "cell_type": "code",
      "source": [
        "from google.colab import drive\n",
        "drive.mount('/content/drive')"
      ],
      "metadata": {
        "colab": {
          "base_uri": "https://localhost:8080/"
        },
        "id": "LZ9Y-2P4DWYz",
        "outputId": "c1bd73c2-2726-47ce-f789-a00142ac22d9"
      },
      "execution_count": 12,
      "outputs": [
        {
          "output_type": "stream",
          "name": "stdout",
          "text": [
            "Drive already mounted at /content/drive; to attempt to forcibly remount, call drive.mount(\"/content/drive\", force_remount=True).\n"
          ]
        }
      ]
    },
    {
      "cell_type": "code",
      "source": [
        "#model_cfg = '/content/mmpose/configs/body_2d_keypoint/yoloxpose/coco/yoloxpose_l_8xb32-300e_coco-640.py'\n",
        "\n",
        "#ckpt = 'https://download.openmmlab.com/mmpose/v1/body_2d_keypoint/yolox_pose/yoloxpose_m_8xb32-300e_coco-640-84e9a538_20230829.pth'\n",
        "model_cfg ='/content/mmpose/configs/body_2d_keypoint/topdown_heatmap/coco/td-hm_hourglass52_8xb32-210e_coco-256x256.py'\n",
        "ckpt='https://download.openmmlab.com/mmpose/top_down/hourglass/hourglass52_coco_256x256-4ec713ba_20200709.pth'\n",
        "device = 'cuda'\n",
        "\n",
        "# init model\n",
        "model = init_model(model_cfg, ckpt, device=device)"
      ],
      "metadata": {
        "colab": {
          "base_uri": "https://localhost:8080/"
        },
        "id": "H_-T3AcNCx0S",
        "outputId": "81c8bf8f-e078-49f2-bb22-3839f83daea1"
      },
      "execution_count": 21,
      "outputs": [
        {
          "output_type": "stream",
          "name": "stdout",
          "text": [
            "Loads checkpoint by http backend from path: https://download.openmmlab.com/mmpose/top_down/hourglass/hourglass52_coco_256x256-4ec713ba_20200709.pth\n"
          ]
        },
        {
          "output_type": "stream",
          "name": "stderr",
          "text": [
            "Downloading: \"https://download.openmmlab.com/mmpose/top_down/hourglass/hourglass52_coco_256x256-4ec713ba_20200709.pth\" to /root/.cache/torch/hub/checkpoints/hourglass52_coco_256x256-4ec713ba_20200709.pth\n",
            "/content/mmpose/mmpose/datasets/datasets/utils.py:102: UserWarning: The metainfo config file \"configs/_base_/datasets/coco.py\" does not exist. A matched config file \"/content/mmpose/mmpose/.mim/configs/_base_/datasets/coco.py\" will be used instead.\n",
            "  warnings.warn(\n"
          ]
        }
      ]
    },
    {
      "cell_type": "code",
      "source": [
        "img_path = '/content/drive/MyDrive/3D human pose estimation/000000000785.jpg'"
      ],
      "metadata": {
        "id": "yVu9E-fnDsL8"
      },
      "execution_count": 22,
      "outputs": []
    },
    {
      "cell_type": "code",
      "source": [
        "# inference on a single image\n",
        "batch_results = inference_topdown(model, img_path)"
      ],
      "metadata": {
        "id": "_Woa9j2SDzsx"
      },
      "execution_count": 23,
      "outputs": []
    },
    {
      "cell_type": "code",
      "source": [
        "pred_instances = batch_results[0].pred_instances"
      ],
      "metadata": {
        "id": "7zLLeSTxEEhI"
      },
      "execution_count": 24,
      "outputs": []
    },
    {
      "cell_type": "code",
      "source": [
        "from mmpose.apis import visualize\n",
        "\n",
        "pred_instances = batch_results[0].pred_instances\n",
        "\n",
        "keypoints = pred_instances.keypoints\n",
        "keypoint_scores = pred_instances.keypoint_scores\n",
        "\n",
        "print(keypoints)"
      ],
      "metadata": {
        "colab": {
          "base_uri": "https://localhost:8080/"
        },
        "id": "G8NZjoU5KTE_",
        "outputId": "d11904e0-959e-4cd5-c6f6-344e48bc9867"
      },
      "execution_count": 25,
      "outputs": [
        {
          "output_type": "stream",
          "name": "stdout",
          "text": [
            "[[[366.875  84.375]\n",
            "  [373.125  78.125]\n",
            "  [360.625  78.125]\n",
            "  [385.625  78.125]\n",
            "  [354.375  78.125]\n",
            "  [404.375 109.375]\n",
            "  [360.625 121.875]\n",
            "  [435.625 140.625]\n",
            "  [348.125 159.375]\n",
            "  [441.875 159.375]\n",
            "  [304.375 178.125]\n",
            "  [429.375 203.125]\n",
            "  [404.375 209.375]\n",
            "  [429.375 290.625]\n",
            "  [373.125 271.875]\n",
            "  [473.125 359.375]\n",
            "  [404.375 340.625]]]\n"
          ]
        }
      ]
    },
    {
      "cell_type": "code",
      "source": [
        "# merge results as a single data sample\n",
        "results = merge_data_samples(batch_results)\n",
        "\n",
        "# build the visualizer\n",
        "visualizer = VISUALIZERS.build(model.cfg.visualizer)\n",
        "\n",
        "# set skeleton, colormap and joint connection rule\n",
        "visualizer.set_dataset_meta(model.dataset_meta)\n",
        "\n",
        "img = imread(img_path, channel_order='rgb')\n",
        "\n",
        "# visualize the results\n",
        "visualizer.add_datasample(\n",
        "    'result',\n",
        "    img,\n",
        "    data_sample=results,\n",
        "    show=True)"
      ],
      "metadata": {
        "colab": {
          "base_uri": "https://localhost:8080/"
        },
        "id": "qAJmMLQBKcZW",
        "outputId": "553e1acc-d238-4d73-f37c-4086f3e099d5"
      },
      "execution_count": null,
      "outputs": [
        {
          "output_type": "stream",
          "name": "stderr",
          "text": [
            "/usr/local/lib/python3.10/dist-packages/mmengine/utils/manager.py:113: UserWarning: <class 'mmpose.visualization.local_visualizer.PoseLocalVisualizer'> instance named of visualizer has been created, the method `get_instance` should not accept any other arguments\n",
            "  warnings.warn(\n"
          ]
        }
      ]
    },
    {
      "cell_type": "markdown",
      "source": [
        "###YOLOX"
      ],
      "metadata": {
        "id": "Fj4Ga_G5YbsE"
      }
    },
    {
      "cell_type": "code",
      "source": [
        "from mmpose.apis import visualize\n",
        "\n",
        "pred_instances = batch_results[0].pred_instances\n",
        "\n",
        "keypoints = pred_instances.keypoints\n",
        "keypoint_scores = pred_instances.keypoint_scores\n",
        "\n",
        "print(keypoints)"
      ],
      "metadata": {
        "colab": {
          "base_uri": "https://localhost:8080/"
        },
        "id": "OASNFhi4EPA0",
        "outputId": "06e4e4cb-7294-416a-a52a-c349b27588fa"
      },
      "execution_count": 20,
      "outputs": [
        {
          "output_type": "stream",
          "name": "stdout",
          "text": [
            "[[[-8.50177600e+06  2.04660685e+07]\n",
            "  [-1.28840240e+07  7.36339000e+06]\n",
            "  [ 7.90586000e+06 -1.76623525e+06]\n",
            "  ...\n",
            "  [ 4.38324150e+06 -1.68340635e+07]\n",
            "  [-6.05544950e+06  1.53340875e+07]\n",
            "  [-6.28978500e+06 -1.54589895e+07]]\n",
            "\n",
            " [[ 4.76717281e+05  1.65536595e+07]\n",
            "  [-3.62774475e+06  1.01257455e+07]\n",
            "  [ 1.78393540e+07 -2.26360525e+06]\n",
            "  ...\n",
            "  [-1.15513950e+07 -1.53805775e+07]\n",
            "  [-1.10824300e+06  1.45640545e+07]\n",
            "  [-9.96435700e+06 -2.39875955e+07]]\n",
            "\n",
            " [[-8.50188400e+06  1.22330365e+07]\n",
            "  [-1.46636720e+07  1.63735865e+07]\n",
            "  [ 3.33521720e+07 -5.14935850e+06]\n",
            "  ...\n",
            "  [-2.03073760e+07 -4.67037750e+06]\n",
            "  [-5.62667600e+06  2.20977765e+07]\n",
            "  [-2.69850520e+07 -2.98089495e+07]]\n",
            "\n",
            " ...\n",
            "\n",
            " [[ 1.31833584e+08 -6.58273260e+08]\n",
            "  [-3.12805376e+08 -3.01893580e+08]\n",
            "  [-9.33685440e+08  2.54150468e+08]\n",
            "  ...\n",
            "  [ 5.60738048e+08 -3.13409964e+08]\n",
            "  [ 1.28426752e+09 -1.11230974e+09]\n",
            "  [-1.02257389e+09  5.86678676e+08]]\n",
            "\n",
            " [[ 1.49580224e+08 -6.12519660e+08]\n",
            "  [-3.58107008e+08 -3.17348396e+08]\n",
            "  [-8.81701632e+08  2.24004436e+08]\n",
            "  ...\n",
            "  [ 4.82648480e+08 -3.06309420e+08]\n",
            "  [ 1.26643968e+09 -1.13267441e+09]\n",
            "  [-1.00288768e+09  5.53246356e+08]]\n",
            "\n",
            " [[ 2.83360768e+08 -5.38421100e+08]\n",
            "  [-3.68864288e+08 -2.52080844e+08]\n",
            "  [-8.28268032e+08  1.70582804e+08]\n",
            "  ...\n",
            "  [ 4.85839808e+08 -4.10279148e+08]\n",
            "  [ 1.28289075e+09 -9.42890092e+08]\n",
            "  [-9.44984448e+08  5.33595860e+08]]]\n"
          ]
        }
      ]
    }
  ],
  "metadata": {
    "accelerator": "GPU",
    "colab": {
      "provenance": [],
      "collapsed_sections": [
        "bkw-kUD8t3t8",
        "_2K9x8xjYUZ-",
        "Fj4Ga_G5YbsE"
      ],
      "include_colab_link": true
    },
    "gpuClass": "standard",
    "kernelspec": {
      "display_name": "dev2.0",
      "language": "python",
      "name": "python3"
    },
    "language_info": {
      "codemirror_mode": {
        "name": "ipython",
        "version": 3
      },
      "file_extension": ".py",
      "mimetype": "text/x-python",
      "name": "python",
      "nbconvert_exporter": "python",
      "pygments_lexer": "ipython3",
      "version": "3.8.5"
    },
    "vscode": {
      "interpreter": {
        "hash": "383ba00087b5a9caebf3648b758a31e474cc01be975489b58f119fa4bc17e1f8"
      }
    }
  },
  "nbformat": 4,
  "nbformat_minor": 0
}