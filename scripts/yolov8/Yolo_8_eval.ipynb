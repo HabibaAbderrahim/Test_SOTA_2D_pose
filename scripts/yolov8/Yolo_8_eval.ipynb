{
  "nbformat": 4,
  "nbformat_minor": 0,
  "metadata": {
    "colab": {
      "provenance": [],
      "mount_file_id": "1F84nWLQhwUUa-Ce8Zpf7Q5Ub-KEsph6L",
      "authorship_tag": "ABX9TyOGl9GQ6jD/c5fX4BRdHUL6",
      "include_colab_link": true
    },
    "kernelspec": {
      "name": "python3",
      "display_name": "Python 3"
    },
    "language_info": {
      "name": "python"
    }
  },
  "cells": [
    {
      "cell_type": "markdown",
      "metadata": {
        "id": "view-in-github",
        "colab_type": "text"
      },
      "source": [
        "<a href=\"https://colab.research.google.com/github/HabibaAbderrahim/Test_SOTA_2D_pose/blob/main/Yolo_8_eval.ipynb\" target=\"_parent\"><img src=\"https://colab.research.google.com/assets/colab-badge.svg\" alt=\"Open In Colab\"/></a>"
      ]
    },
    {
      "cell_type": "code",
      "execution_count": null,
      "metadata": {
        "id": "yIZj4k9-p2Up"
      },
      "outputs": [],
      "source": [
        "# Install the ultralytics package from PyPI\n",
        "!pip install ultralytics"
      ]
    },
    {
      "cell_type": "markdown",
      "source": [
        "**Import Libs**"
      ],
      "metadata": {
        "id": "To3rWhV6q0By"
      }
    },
    {
      "cell_type": "code",
      "source": [
        "from ultralytics import YOLO\n",
        "import os\n",
        "from PIL import Image"
      ],
      "metadata": {
        "id": "TpsQdLfGqp4Q"
      },
      "execution_count": 2,
      "outputs": []
    },
    {
      "cell_type": "markdown",
      "source": [
        "**Load images**"
      ],
      "metadata": {
        "id": "kG_RkSUUq6IU"
      }
    },
    {
      "cell_type": "code",
      "source": [
        "# List all image files in the directory in Google Drive\n",
        "img_test_folder='/content/drive/MyDrive/imgs_test_set'\n",
        "image_files=[i for i in os.listdir(img_test_folder) if i.endswith(('.jpg', '.jpeg', '.png'))]\n",
        "print(image_files)\n",
        "print(\"Number of images \"+str(len(image_files)))"
      ],
      "metadata": {
        "colab": {
          "base_uri": "https://localhost:8080/"
        },
        "id": "HBP4Bhs6q9TE",
        "outputId": "7808fc4d-b5f1-42eb-e24a-36c68d288290"
      },
      "execution_count": 4,
      "outputs": [
        {
          "output_type": "stream",
          "name": "stdout",
          "text": [
            "['1.jpeg', '2.jpeg', '3.jpeg', '4.jpeg', '5.jpeg', 'boy-1822565_1280.jpeg', 'cmxseT20wDlQ_s600x600.jpeg', 'coachplayertf.jpeg', 'fef23683-0b70-49d7-8b32-d11ae842f633.jpeg', 'images (1).jpeg', 'input - Copie.jpeg']\n",
            "Number of images 11\n"
          ]
        }
      ]
    },
    {
      "cell_type": "markdown",
      "source": [
        "**Load pretrained Model:viz keypoints**"
      ],
      "metadata": {
        "id": "wk7KeaTTrtla"
      }
    },
    {
      "cell_type": "code",
      "source": [
        "results = model('https://ultralytics.com/images/bus.jpg')  # predict on an image"
      ],
      "metadata": {
        "colab": {
          "base_uri": "https://localhost:8080/"
        },
        "id": "4KjxEjFN7U9s",
        "outputId": "d7df7408-f856-468e-b9eb-863424bc5750"
      },
      "execution_count": 12,
      "outputs": [
        {
          "output_type": "stream",
          "name": "stdout",
          "text": [
            "\n",
            "Downloading https://ultralytics.com/images/bus.jpg to 'bus.jpg'...\n"
          ]
        },
        {
          "output_type": "stream",
          "name": "stderr",
          "text": [
            "100%|██████████| 476k/476k [00:00<00:00, 61.7MB/s]\n"
          ]
        },
        {
          "output_type": "stream",
          "name": "stdout",
          "text": [
            "image 1/1 /content/bus.jpg: 640x480 4 persons, 1 bus, 1 stop sign, 214.1ms\n",
            "Speed: 5.0ms preprocess, 214.1ms inference, 1.7ms postprocess per image at shape (1, 3, 640, 480)\n"
          ]
        }
      ]
    },
    {
      "cell_type": "code",
      "source": [
        "# Load a model\n",
        "model = YOLO('yolov8n-pose.pt')\n",
        "\n",
        "# Predict with the model\n",
        "results = model('https://ultralytics.com/images/bus.jpg')\n",
        "\n",
        "# Extract keypoint\n",
        "for r in  results:\n",
        "   print(r.keypoints.xyn.cpu().numpy()[0])"
      ],
      "metadata": {
        "colab": {
          "base_uri": "https://localhost:8080/"
        },
        "id": "0le7FAgr7bE1",
        "outputId": "873f6b21-78e1-4740-9924-f6457018c40a"
      },
      "execution_count": 18,
      "outputs": [
        {
          "output_type": "stream",
          "name": "stdout",
          "text": [
            "\n",
            "Found https://ultralytics.com/images/bus.jpg locally at bus.jpg\n",
            "image 1/1 /content/bus.jpg: 640x480 4 persons, 222.5ms\n",
            "Speed: 5.2ms preprocess, 222.5ms inference, 1.3ms postprocess per image at shape (1, 3, 640, 480)\n",
            "[[      0.177     0.41189]\n",
            " [    0.18305      0.4034]\n",
            " [    0.16304     0.40397]\n",
            " [          0           0]\n",
            " [     0.1291     0.41035]\n",
            " [    0.20116     0.45874]\n",
            " [     0.1082      0.4609]\n",
            " [    0.23595     0.52295]\n",
            " [    0.13884     0.52508]\n",
            " [    0.19951     0.49835]\n",
            " [    0.19109     0.50459]\n",
            " [    0.19215     0.59155]\n",
            " [    0.11981     0.59337]\n",
            " [     0.2195     0.69523]\n",
            " [     0.1115     0.69979]\n",
            " [    0.23757     0.79331]\n",
            " [   0.099484     0.79713]]\n"
          ]
        }
      ]
    },
    {
      "cell_type": "code",
      "source": [
        "for img in image_files:\n",
        "  #Full path\n",
        "  img_full_path=os.path.join(img_test_folder,img)\n",
        "  # Predict with the model\n",
        "  results = model(img_full_path, save=True)\n",
        "  # Process results list\n",
        "  for result in results:\n",
        "      boxes = result.boxes  # Boxes object for bbox outputs\n",
        "      masks = result.masks  # Masks object for segmentation masks outputs\n",
        "      keypoints = result.keypoints  # Keypoints object for pose outputs\n",
        "      probs = result.probs  # Probs object for classification outputs"
      ],
      "metadata": {
        "colab": {
          "base_uri": "https://localhost:8080/"
        },
        "id": "VMQT0MRCjz4q",
        "outputId": "b537dca7-8805-4585-8b64-93f69e5faf60"
      },
      "execution_count": 6,
      "outputs": [
        {
          "output_type": "stream",
          "name": "stdout",
          "text": [
            "\n",
            "image 1/1 /content/drive/MyDrive/imgs_test_set/1.jpeg: 640x544 10 persons, 1 laptop, 513.3ms\n",
            "Speed: 41.7ms preprocess, 513.3ms inference, 33.8ms postprocess per image at shape (1, 3, 640, 544)\n",
            "Results saved to \u001b[1mruns/detect/predict\u001b[0m\n",
            "\n",
            "image 1/1 /content/drive/MyDrive/imgs_test_set/2.jpeg: 448x640 7 persons, 1 sports ball, 152.3ms\n",
            "Speed: 3.2ms preprocess, 152.3ms inference, 1.2ms postprocess per image at shape (1, 3, 448, 640)\n",
            "Results saved to \u001b[1mruns/detect/predict\u001b[0m\n",
            "\n",
            "image 1/1 /content/drive/MyDrive/imgs_test_set/3.jpeg: 448x640 8 persons, 1 sports ball, 161.1ms\n",
            "Speed: 3.1ms preprocess, 161.1ms inference, 1.4ms postprocess per image at shape (1, 3, 448, 640)\n",
            "Results saved to \u001b[1mruns/detect/predict\u001b[0m\n",
            "\n",
            "image 1/1 /content/drive/MyDrive/imgs_test_set/4.jpeg: 448x640 3 persons, 1 sports ball, 173.0ms\n",
            "Speed: 3.3ms preprocess, 173.0ms inference, 1.6ms postprocess per image at shape (1, 3, 448, 640)\n",
            "Results saved to \u001b[1mruns/detect/predict\u001b[0m\n",
            "\n",
            "image 1/1 /content/drive/MyDrive/imgs_test_set/5.jpeg: 416x640 5 persons, 139.3ms\n",
            "Speed: 3.0ms preprocess, 139.3ms inference, 1.2ms postprocess per image at shape (1, 3, 416, 640)\n",
            "Results saved to \u001b[1mruns/detect/predict\u001b[0m\n",
            "\n",
            "image 1/1 /content/drive/MyDrive/imgs_test_set/boy-1822565_1280.jpeg: 448x640 1 person, 1 sports ball, 1 surfboard, 150.6ms\n",
            "Speed: 2.5ms preprocess, 150.6ms inference, 1.4ms postprocess per image at shape (1, 3, 448, 640)\n",
            "Results saved to \u001b[1mruns/detect/predict\u001b[0m\n",
            "\n",
            "image 1/1 /content/drive/MyDrive/imgs_test_set/cmxseT20wDlQ_s600x600.jpeg: 448x640 3 persons, 1 tie, 1 book, 153.3ms\n",
            "Speed: 3.1ms preprocess, 153.3ms inference, 2.1ms postprocess per image at shape (1, 3, 448, 640)\n",
            "Results saved to \u001b[1mruns/detect/predict\u001b[0m\n",
            "\n",
            "image 1/1 /content/drive/MyDrive/imgs_test_set/coachplayertf.jpeg: 544x640 3 persons, 1 baseball glove, 183.1ms\n",
            "Speed: 3.6ms preprocess, 183.1ms inference, 1.4ms postprocess per image at shape (1, 3, 544, 640)\n",
            "Results saved to \u001b[1mruns/detect/predict\u001b[0m\n",
            "\n",
            "image 1/1 /content/drive/MyDrive/imgs_test_set/fef23683-0b70-49d7-8b32-d11ae842f633.jpeg: 448x640 3 persons, 149.3ms\n",
            "Speed: 2.6ms preprocess, 149.3ms inference, 1.3ms postprocess per image at shape (1, 3, 448, 640)\n",
            "Results saved to \u001b[1mruns/detect/predict\u001b[0m\n",
            "\n",
            "image 1/1 /content/drive/MyDrive/imgs_test_set/images (1).jpeg: 448x640 5 persons, 159.1ms\n",
            "Speed: 2.7ms preprocess, 159.1ms inference, 1.5ms postprocess per image at shape (1, 3, 448, 640)\n",
            "Results saved to \u001b[1mruns/detect/predict\u001b[0m\n",
            "\n",
            "image 1/1 /content/drive/MyDrive/imgs_test_set/input - Copie.jpeg: 640x480 6 persons, 1 chair, 166.1ms\n",
            "Speed: 4.3ms preprocess, 166.1ms inference, 1.2ms postprocess per image at shape (1, 3, 640, 480)\n",
            "Results saved to \u001b[1mruns/detect/predict\u001b[0m\n"
          ]
        }
      ]
    },
    {
      "cell_type": "markdown",
      "source": [
        "**Visualise Results**"
      ],
      "metadata": {
        "id": "LrWmD5BlzujE"
      }
    },
    {
      "cell_type": "code",
      "source": [
        "output_directory = \"/content/drive/MyDrive/imgs_test_set/yolo8_result_final\"\n",
        "# Create the output directory if it doesn't exist\n",
        "if not os.path.exists(output_directory):\n",
        "    os.makedirs(output_directory)"
      ],
      "metadata": {
        "id": "vAIsN4EHzsni"
      },
      "execution_count": 8,
      "outputs": []
    },
    {
      "cell_type": "code",
      "source": [
        "# Show the results\n",
        "for i,r in enumerate(results):\n",
        "    im_array = r.plot()  # plot a BGR numpy array of predictions\n",
        "    im = Image.fromarray(im_array[..., ::-1])  # RGB PIL image\n",
        "    im_file = os.path.join(output_directory,f'result_{i}.jpg')\n",
        "    im.save(im_file)  # save image"
      ],
      "metadata": {
        "id": "U4Yf4L7msIKU"
      },
      "execution_count": 9,
      "outputs": []
    }
  ]
}